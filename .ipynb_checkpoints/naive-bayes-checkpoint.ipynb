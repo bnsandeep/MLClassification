{
 "cells": [
  {
   "cell_type": "markdown",
   "metadata": {},
   "source": [
    "# Naive Bayes\n",
    "\n",
    "### Simple but powerful algo with a lot of real world applications\n",
    "\n",
    "\n",
    "### Prelim Knowledge\n",
    "\n",
    "\n",
    "* **Conditional Probability** - Probability of an event A given the other event has occured. e.g. what is the probability that it will rain given that it is cloudy?\n",
    "\n",
    "\n",
    "* **Joint Probability** - a measure that calculates likelihood of two or more events at the same time.\n",
    "\n",
    "\n",
    "* **Proportionality** - relationship b/w 2 quantities that are related by multiplication to a constant.\n",
    "\n",
    "\n",
    "* **Bayes Theorem** - In probability theory and statistics, Bayes' theorem (alternatively Bayes's theorem, Bayes's law or Bayes's rule) describes the probability of an event, based on prior knowledge of conditions that might be related to the event.\n"
   ]
  },
  {
   "cell_type": "markdown",
   "metadata": {},
   "source": [
    "### Baye's Theorem\n",
    "* **P (A | B) = P (B | A) * P(A) / P(B)**\n",
    "\n",
    "### If we had Target (y) and Feature (X) variables... \n",
    "\n",
    "\n",
    "* **P (y | X) = P (X | y) * P(y) / P(X)**\n",
    "\n",
    "\n",
    "### If I have more than one X, (X1, X2, X3)\n",
    "\n",
    "\n",
    "* **P (X | y) = P(X1 | y) * P(X2 | y) * P(X3 | y)**\n",
    "    - Baye's Theorem\n",
    "        - **P (y | X) = P(X1 | y) * P(X2 | y) * P(X3 | y) * P(y) / P(X1) * P(X2) * P(X3)**"
   ]
  },
  {
   "cell_type": "markdown",
   "metadata": {},
   "source": [
    "# Dataset : Depending on weather condition whether to play golf or not\n",
    "\n",
    "<img src=\"img/naivebayes.png\">"
   ]
  },
  {
   "cell_type": "markdown",
   "metadata": {},
   "source": [
    "### Step 1 # Frequency Table\n",
    "\n",
    "<img src='img/freq-table.png'>"
   ]
  },
  {
   "cell_type": "markdown",
   "metadata": {},
   "source": [
    "### Step 2 # Ratio Table\n",
    "\n",
    "<img src='img/ratio-table.png'>"
   ]
  },
  {
   "cell_type": "markdown",
   "metadata": {},
   "source": [
    "### X  = { outlook : sunny,\n",
    "###           temperature: mild,\n",
    "###           humidity: normal,\n",
    "###           windy: false\n",
    "###         }"
   ]
  },
  {
   "cell_type": "markdown",
   "metadata": {},
   "source": [
    "### P (yes | X)\n",
    "\n",
    "#### P (yes) = 9/14\n",
    "\n",
    "#### P (outlook = sunny | yes) = 2/9\n",
    "\n",
    "#### P (temperature = mild | yes) = 4/9\n",
    "\n",
    "\n",
    "#### P (humidity = normal | yes) = 6/9\n",
    "\n",
    "\n",
    "#### P(windy = false | yes) = 6/9"
   ]
  },
  {
   "cell_type": "code",
   "execution_count": 1,
   "metadata": {},
   "outputs": [
    {
     "data": {
      "text/plain": [
       "0.02821869488536155"
      ]
     },
     "execution_count": 1,
     "metadata": {},
     "output_type": "execute_result"
    }
   ],
   "source": [
    "# P (yes | X)\n",
    "\n",
    "(9/14) * (2/9) * (4/9) * (6/9) * (6/9)"
   ]
  },
  {
   "cell_type": "markdown",
   "metadata": {},
   "source": [
    "#### P (yes | X) = 0.02821869488536155\n",
    "\n",
    "#### P (no | X) = 0.0069"
   ]
  },
  {
   "cell_type": "markdown",
   "metadata": {},
   "source": [
    "##### Since P (yes | X) > P(no | X), so we predict that person would play golf."
   ]
  },
  {
   "cell_type": "markdown",
   "metadata": {},
   "source": [
    "## Types of Naive Bayes\n",
    "\n",
    "* Multinomial - Assumption is P(X | y) follows a multinomial distribution. Used frequently in Text Classification kind of problems.\n",
    "\n",
    "\n",
    "* Gaussian - Assumes that continuous values are sampled from normal distribution\n",
    "\n",
    "\n",
    "* Bernoulli - Similar to Multinomial Naive Bayes except that the independent variables are boolean (True False)... Windy"
   ]
  },
  {
   "cell_type": "code",
   "execution_count": null,
   "metadata": {},
   "outputs": [],
   "source": []
  }
 ],
 "metadata": {
  "kernelspec": {
   "display_name": "Python 3",
   "language": "python",
   "name": "python3"
  },
  "language_info": {
   "codemirror_mode": {
    "name": "ipython",
    "version": 3
   },
   "file_extension": ".py",
   "mimetype": "text/x-python",
   "name": "python",
   "nbconvert_exporter": "python",
   "pygments_lexer": "ipython3",
   "version": "3.8.3"
  }
 },
 "nbformat": 4,
 "nbformat_minor": 2
}
