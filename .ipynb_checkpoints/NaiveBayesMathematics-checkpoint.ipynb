{
 "cells": [
  {
   "cell_type": "markdown",
   "metadata": {},
   "source": [
    "## Naive Bayes\n",
    "\n",
    "**One of the most popular and simple algo based on calculating probabilities and conditional probability. It is based on Bayes' Theorem.**\n",
    "\n",
    "***P (c | X) = P (X | c) * P (c) / P (x)***"
   ]
  },
  {
   "cell_type": "markdown",
   "metadata": {},
   "source": [
    "* P (c | X) = Posterior - Probability of c being true given that X is true. c is our target class and X is the predictor variable. X can be X1 X2 X3... ...Xn\n",
    "\n",
    "\n",
    "* P (X | c) = Likelihood - Probability of X being true given that c is true\n",
    "\n",
    "\n",
    "* P (c) = Prior Prob. - Probability of c being true - observed prob. of the class of all the observations.\n",
    "\n",
    "\n",
    "* P (X) = Probability of X being true - observed prob. of predictor out of all the observations."
   ]
  },
  {
   "cell_type": "markdown",
   "metadata": {},
   "source": [
    "**Assumption that the conditional probabilities are independent of each other.**"
   ]
  },
  {
   "cell_type": "markdown",
   "metadata": {},
   "source": [
    "* **Conditional Probability : Prob. of an event A given other event has occured. e.g. what is the probability that it will rain given that it is cloudy?**\n",
    "\n",
    "\n",
    "* **Joint Probability : Measure that calculates likelihood of 2 or more events at the same time.**\n"
   ]
  },
  {
   "cell_type": "markdown",
   "metadata": {},
   "source": [
    "If we've more than 1 input variable\n",
    "\n",
    "**If X = (X1, X2, X3)**\n",
    "\n",
    "**P (X | c) = P (X1 | c) * P (X2 | c) * P (X3 | c)**\n",
    "\n",
    "\n",
    "***P (c | X) = P (X1 | c) * P (X2 | c) * P (X3 | c) * P (c) / P (X)***"
   ]
  },
  {
   "cell_type": "markdown",
   "metadata": {},
   "source": [
    "### Whether to play golf or not"
   ]
  },
  {
   "cell_type": "markdown",
   "metadata": {},
   "source": [
    "<img src=\"img/naivebayes.png\">"
   ]
  },
  {
   "cell_type": "markdown",
   "metadata": {},
   "source": [
    "## Frequency Table"
   ]
  },
  {
   "cell_type": "markdown",
   "metadata": {},
   "source": [
    "<img src=\"img/freq-table.png\">"
   ]
  },
  {
   "cell_type": "markdown",
   "metadata": {},
   "source": [
    "## Ratio Table"
   ]
  },
  {
   "cell_type": "markdown",
   "metadata": {},
   "source": [
    "<img src=\"img/ratio-table.png\">"
   ]
  },
  {
   "cell_type": "markdown",
   "metadata": {},
   "source": [
    "# X = { outlook : sunny, temperature : mild, humidity : normal, windy : false }\n",
    "\n",
    "\n",
    "# P ( yes | X)\n",
    "\n",
    "* **P ( yes ) = 9/14**\n",
    "\n",
    "\n",
    "* **P ( outlook = sunny | yes ) = 2/9**\n",
    "\n",
    "\n",
    "* **P ( temperature = mild | yes ) = 4/9**\n",
    "\n",
    "\n",
    "* **P ( humidity = normal | yes ) = 6/9**\n",
    "\n",
    "\n",
    "* **P ( windy = false | yes ) = 6/9**"
   ]
  },
  {
   "cell_type": "code",
   "execution_count": 4,
   "metadata": {},
   "outputs": [
    {
     "data": {
      "text/plain": [
       "0.028218694885361564"
      ]
     },
     "execution_count": 4,
     "metadata": {},
     "output_type": "execute_result"
    }
   ],
   "source": [
    "# P (yes | X)\n",
    "\n",
    "\n",
    "9/14 * 2/9 * 4/9 * 6/9 * 6/9"
   ]
  },
  {
   "cell_type": "markdown",
   "metadata": {},
   "source": [
    "* **P (yes | X ) = 0.02822**\n",
    "\n",
    "\n",
    "* **P (no | X ) = 0.0069**"
   ]
  },
  {
   "cell_type": "markdown",
   "metadata": {},
   "source": [
    "##### Since P ( yes|X) > P (No|X) so we predict that its the right time to play golf."
   ]
  },
  {
   "cell_type": "markdown",
   "metadata": {},
   "source": [
    "### Types of Naive Bayes"
   ]
  },
  {
   "cell_type": "markdown",
   "metadata": {},
   "source": [
    "* Multinomial\n",
    "    * Assumption is that P (X | y) will always follow multinomial distribution.\n",
    "    * Mainly used in text classification\n",
    "\n",
    "\n",
    "* Bernoulli\n",
    "    * Similar to Multinomial except that independent variables are boolean \n",
    "\n",
    "\n",
    "* Gaussian\n",
    "    * Assumes that continuous values are sampled from normal distribution"
   ]
  },
  {
   "cell_type": "markdown",
   "metadata": {},
   "source": [
    "# Great Job !"
   ]
  }
 ],
 "metadata": {
  "kernelspec": {
   "display_name": "Python 3",
   "language": "python",
   "name": "python3"
  },
  "language_info": {
   "codemirror_mode": {
    "name": "ipython",
    "version": 3
   },
   "file_extension": ".py",
   "mimetype": "text/x-python",
   "name": "python",
   "nbconvert_exporter": "python",
   "pygments_lexer": "ipython3",
   "version": "3.8.3"
  }
 },
 "nbformat": 4,
 "nbformat_minor": 4
}
